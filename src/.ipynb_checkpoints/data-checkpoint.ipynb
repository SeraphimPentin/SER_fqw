{
 "cells": [
  {
   "cell_type": "code",
   "execution_count": 1,
   "id": "initial_id",
   "metadata": {
    "collapsed": true,
    "ExecuteTime": {
     "end_time": "2024-04-13T12:57:31.442270Z",
     "start_time": "2024-04-13T12:57:15.219634Z"
    }
   },
   "outputs": [],
   "source": [
    "import pandas as pd\n",
    "import numpy as np\n",
    "import seaborn as sns\n",
    "import matplotlib.pyplot as plt\n",
    "from IPython.display import Audio\n",
    "import sklearn\n",
    "from sklearn.preprocessing import OneHotEncoder\n",
    "from sklearn.model_selection import train_test_split\n",
    "from sklearn.preprocessing import StandardScaler\n",
    "import librosa\n",
    "import librosa.display\n",
    "import keras\n",
    "from keras.models import Sequential\n",
    "from keras.layers import Conv1D, MaxPooling1D, Dropout, Flatten, Dense\n",
    "from keras.src.callbacks import ReduceLROnPlateau\n"
   ]
  },
  {
   "cell_type": "code",
   "outputs": [
    {
     "data": {
      "text/plain": "                                 hash_id  \\\n906948  dc1e379757b50ea57ba0d86fa2cfbc2e   \n906949  d923edeb05adcebc215d9ae9d9655a0a   \n906950  b5dd4c4fd8f9e1f6f2b77041e0a69fe4   \n906951  593277832bed252bf5f321223d5d08f4   \n906952  875a934947d3212d76afe782c4e2ca09   \n\n                                       audio_path  duration annotator_emo  \\\n906948  wavs/dc1e379757b50ea57ba0d86fa2cfbc2e.wav  4.159625           sad   \n906949  wavs/d923edeb05adcebc215d9ae9d9655a0a.wav  3.784438       neutral   \n906950  wavs/b5dd4c4fd8f9e1f6f2b77041e0a69fe4.wav  2.722938       neutral   \n906951  wavs/593277832bed252bf5f321223d5d08f4.wav  3.349000       neutral   \n906952  wavs/875a934947d3212d76afe782c4e2ca09.wav  3.320000         angry   \n\n        golden_emo                      annotator_id  \\\n906948         2.0  cff125aa5153b7677dd28377337dcd2f   \n906949         2.0  cff125aa5153b7677dd28377337dcd2f   \n906950         2.0  6a059476b07f0467b9474fc47537784e   \n906951         NaN  6a059476b07f0467b9474fc47537784e   \n906952         4.0  6a059476b07f0467b9474fc47537784e   \n\n                       speaker_text speaker_emo  \\\n906948   индийские фильмы индийские         sad   \n906949                 сериал метро         sad   \n906950      смотреть ужасы про крыс         sad   \n906951  мороженщик в реальной жизни     neutral   \n906952                          NaN         NaN   \n\n                               source_id  \n906948  037539580d1e28a834912088be1b81b0  \n906949  795e545977414fa4f915249f451d24f8  \n906950  49fe520fd45da95b7c575e3db07846d2  \n906951  4de2287e6b082e4f652050eba71d21b2  \n906952                               NaN  ",
      "text/html": "<div>\n<style scoped>\n    .dataframe tbody tr th:only-of-type {\n        vertical-align: middle;\n    }\n\n    .dataframe tbody tr th {\n        vertical-align: top;\n    }\n\n    .dataframe thead th {\n        text-align: right;\n    }\n</style>\n<table border=\"1\" class=\"dataframe\">\n  <thead>\n    <tr style=\"text-align: right;\">\n      <th></th>\n      <th>hash_id</th>\n      <th>audio_path</th>\n      <th>duration</th>\n      <th>annotator_emo</th>\n      <th>golden_emo</th>\n      <th>annotator_id</th>\n      <th>speaker_text</th>\n      <th>speaker_emo</th>\n      <th>source_id</th>\n    </tr>\n  </thead>\n  <tbody>\n    <tr>\n      <th>906948</th>\n      <td>dc1e379757b50ea57ba0d86fa2cfbc2e</td>\n      <td>wavs/dc1e379757b50ea57ba0d86fa2cfbc2e.wav</td>\n      <td>4.159625</td>\n      <td>sad</td>\n      <td>2.0</td>\n      <td>cff125aa5153b7677dd28377337dcd2f</td>\n      <td>индийские фильмы индийские</td>\n      <td>sad</td>\n      <td>037539580d1e28a834912088be1b81b0</td>\n    </tr>\n    <tr>\n      <th>906949</th>\n      <td>d923edeb05adcebc215d9ae9d9655a0a</td>\n      <td>wavs/d923edeb05adcebc215d9ae9d9655a0a.wav</td>\n      <td>3.784438</td>\n      <td>neutral</td>\n      <td>2.0</td>\n      <td>cff125aa5153b7677dd28377337dcd2f</td>\n      <td>сериал метро</td>\n      <td>sad</td>\n      <td>795e545977414fa4f915249f451d24f8</td>\n    </tr>\n    <tr>\n      <th>906950</th>\n      <td>b5dd4c4fd8f9e1f6f2b77041e0a69fe4</td>\n      <td>wavs/b5dd4c4fd8f9e1f6f2b77041e0a69fe4.wav</td>\n      <td>2.722938</td>\n      <td>neutral</td>\n      <td>2.0</td>\n      <td>6a059476b07f0467b9474fc47537784e</td>\n      <td>смотреть ужасы про крыс</td>\n      <td>sad</td>\n      <td>49fe520fd45da95b7c575e3db07846d2</td>\n    </tr>\n    <tr>\n      <th>906951</th>\n      <td>593277832bed252bf5f321223d5d08f4</td>\n      <td>wavs/593277832bed252bf5f321223d5d08f4.wav</td>\n      <td>3.349000</td>\n      <td>neutral</td>\n      <td>NaN</td>\n      <td>6a059476b07f0467b9474fc47537784e</td>\n      <td>мороженщик в реальной жизни</td>\n      <td>neutral</td>\n      <td>4de2287e6b082e4f652050eba71d21b2</td>\n    </tr>\n    <tr>\n      <th>906952</th>\n      <td>875a934947d3212d76afe782c4e2ca09</td>\n      <td>wavs/875a934947d3212d76afe782c4e2ca09.wav</td>\n      <td>3.320000</td>\n      <td>angry</td>\n      <td>4.0</td>\n      <td>6a059476b07f0467b9474fc47537784e</td>\n      <td>NaN</td>\n      <td>NaN</td>\n      <td>NaN</td>\n    </tr>\n  </tbody>\n</table>\n</div>"
     },
     "execution_count": 15,
     "metadata": {},
     "output_type": "execute_result"
    }
   ],
   "source": [
    "CSV_FILE = \"C:\\\\Users\\\\s5pen\\\\YandexDisk\\\\ВКР\\\\crowd_train\\\\raw_crowd_train.tsv\"\n",
    "AUDIO_DIR = \"C:\\\\Users\\\\s5pen\\\\YandexDisk\\\\ВКР\\\\crowd_train\\\\wavs\\\\\"\n",
    "\n",
    "DATA = pd.read_csv(CSV_FILE, delimiter='\\t')\n",
    "DATA.tail()"
   ],
   "metadata": {
    "collapsed": false,
    "ExecuteTime": {
     "end_time": "2024-02-19T12:13:46.644694Z",
     "start_time": "2024-02-19T12:13:42.222553Z"
    }
   },
   "id": "3968f20dee45113f",
   "execution_count": 15
  },
  {
   "cell_type": "code",
   "outputs": [],
   "source": [
    "def create_tsv_file_for_N_records(value: int):\n",
    "    # Чтение данных из CSV файла\n",
    "    data = pd.read_csv(CSV_FILE, delimiter='\\t')\n",
    "    # Замена отсутствующих значений в столбце 'speaker_emo' на 'other'\n",
    "    data['speaker_emo'].fillna('other', inplace=True)\n",
    "\n",
    "    # Равное количество записей для каждой эмоции\n",
    "    emotions = ['angry', 'neutral', 'other', 'sad', 'positive']\n",
    "    records_per_emotion = value // len(emotions)\n",
    "\n",
    "    # Пустой DataFrame для хранения выбранных записей\n",
    "    selected_data = pd.DataFrame(columns=data.columns)\n",
    "\n",
    "    # Выбор равного количества записей для каждой эмоции\n",
    "    for emo in emotions:\n",
    "        emo_data = data[data['speaker_emo'] == emo].head(records_per_emotion)\n",
    "        selected_data = pd.concat([selected_data, emo_data])\n",
    "\n",
    "    # Путь для сохранения нового файла\n",
    "    raw_crowd_train = f\"C:\\\\Users\\\\s5pen\\\\DataSpellProjects\\\\SER\\\\data_tcv\\\\raw_crowd_train_{value}.tsv\"\n",
    "\n",
    "    # Сохранение выбранных данных в новом TSV файле\n",
    "    selected_data.to_csv(raw_crowd_train, sep='\\t', index=False)\n",
    "    \n",
    "\n",
    "create_tsv_file_for_N_records(5)\n"
   ],
   "metadata": {
    "collapsed": false,
    "ExecuteTime": {
     "end_time": "2024-02-19T12:16:07.104069Z",
     "start_time": "2024-02-19T12:16:01.885399Z"
    }
   },
   "id": "f7bbcaf131fa6620",
   "execution_count": 17
  },
  {
   "cell_type": "code",
   "outputs": [],
   "source": [
    "\n",
    "def create_waveplot(data, sr, emotion):\n",
    "    plt.figure(figsize=(10, 3))\n",
    "    plt.title('Waveplot for audio with {} emotion'.format(emotion), size=15)\n",
    "    librosa.display.waveshow(data, sr=sr)\n",
    "    plt.show()\n",
    "\n",
    "\n",
    "def create_spectrogram(data, sr, emotion):\n",
    "    # Преобразование аудиоданных в краткосрочное преобразование Фурье (STFT)\n",
    "    X = librosa.stft(data)\n",
    "    Xdb = librosa.amplitude_to_db(abs(X))\n",
    "    plt.figure(figsize=(12, 3))\n",
    "    plt.title('Spectrogram for audio with {} emotion'.format(emotion), size=15)\n",
    "    librosa.display.specshow(Xdb, sr=sr, x_axis='time', y_axis='hz')\n",
    "    plt.colorbar()\n",
    "    plt.show()\n",
    "    \n",
    "def create_audio_display(data):\n",
    "    display(Audio(data))\n"
   ],
   "metadata": {
    "collapsed": false,
    "ExecuteTime": {
     "end_time": "2024-02-19T12:32:59.633545Z",
     "start_time": "2024-02-19T12:32:59.608389Z"
    }
   },
   "id": "349cd5c9f2487749",
   "execution_count": 34
  },
  {
   "cell_type": "code",
   "outputs": [
    {
     "data": {
      "text/plain": "                            hash_id  \\\n0  475e76f77ac1ed7cabafca740b15b32a   \n1  2f9438ef68395c70a8714dc373a49d11   \n2  9937036a9c0dba20eecbffddd00f2be2   \n3  7b78ca15946bddcf4c02843f9c5bda17   \n4  ed5a0505897b5fd7fdd36e75e336e746   \n\n                                  audio_path  duration annotator_emo  \\\n0  wavs/475e76f77ac1ed7cabafca740b15b32a.wav   2.45300         angry   \n1  wavs/2f9438ef68395c70a8714dc373a49d11.wav   4.64000       neutral   \n2  wavs/9937036a9c0dba20eecbffddd00f2be2.wav   4.34175       neutral   \n3  wavs/7b78ca15946bddcf4c02843f9c5bda17.wav   4.84000      positive   \n4  wavs/ed5a0505897b5fd7fdd36e75e336e746.wav   5.26000      positive   \n\n   golden_emo                      annotator_id  \\\n0         NaN  858305a5450b7bd1288ba0053b1cd1c1   \n1         NaN  858305a5450b7bd1288ba0053b1cd1c1   \n2         2.0  858305a5450b7bd1288ba0053b1cd1c1   \n3         NaN  858305a5450b7bd1288ba0053b1cd1c1   \n4         NaN  858305a5450b7bd1288ba0053b1cd1c1   \n\n                      speaker_text speaker_emo  \\\n0  не надо не надо не надо не надо       angry   \n1                фозил кори mp три     neutral   \n2                              NaN       other   \n3                а я злая и карина         sad   \n4           анекдот мне расскажешь    positive   \n\n                          source_id  \n0  fa136da095807ea6cd18dd6e2f58d4d0  \n1  3d436884cbbe25373914f8768de494f7  \n2                               NaN  \n3  f6e9e8ebe28af98415d288839489d001  \n4  a1863537906ea4335372883d6a9261f7  ",
      "text/html": "<div>\n<style scoped>\n    .dataframe tbody tr th:only-of-type {\n        vertical-align: middle;\n    }\n\n    .dataframe tbody tr th {\n        vertical-align: top;\n    }\n\n    .dataframe thead th {\n        text-align: right;\n    }\n</style>\n<table border=\"1\" class=\"dataframe\">\n  <thead>\n    <tr style=\"text-align: right;\">\n      <th></th>\n      <th>hash_id</th>\n      <th>audio_path</th>\n      <th>duration</th>\n      <th>annotator_emo</th>\n      <th>golden_emo</th>\n      <th>annotator_id</th>\n      <th>speaker_text</th>\n      <th>speaker_emo</th>\n      <th>source_id</th>\n    </tr>\n  </thead>\n  <tbody>\n    <tr>\n      <th>0</th>\n      <td>475e76f77ac1ed7cabafca740b15b32a</td>\n      <td>wavs/475e76f77ac1ed7cabafca740b15b32a.wav</td>\n      <td>2.45300</td>\n      <td>angry</td>\n      <td>NaN</td>\n      <td>858305a5450b7bd1288ba0053b1cd1c1</td>\n      <td>не надо не надо не надо не надо</td>\n      <td>angry</td>\n      <td>fa136da095807ea6cd18dd6e2f58d4d0</td>\n    </tr>\n    <tr>\n      <th>1</th>\n      <td>2f9438ef68395c70a8714dc373a49d11</td>\n      <td>wavs/2f9438ef68395c70a8714dc373a49d11.wav</td>\n      <td>4.64000</td>\n      <td>neutral</td>\n      <td>NaN</td>\n      <td>858305a5450b7bd1288ba0053b1cd1c1</td>\n      <td>фозил кори mp три</td>\n      <td>neutral</td>\n      <td>3d436884cbbe25373914f8768de494f7</td>\n    </tr>\n    <tr>\n      <th>2</th>\n      <td>9937036a9c0dba20eecbffddd00f2be2</td>\n      <td>wavs/9937036a9c0dba20eecbffddd00f2be2.wav</td>\n      <td>4.34175</td>\n      <td>neutral</td>\n      <td>2.0</td>\n      <td>858305a5450b7bd1288ba0053b1cd1c1</td>\n      <td>NaN</td>\n      <td>other</td>\n      <td>NaN</td>\n    </tr>\n    <tr>\n      <th>3</th>\n      <td>7b78ca15946bddcf4c02843f9c5bda17</td>\n      <td>wavs/7b78ca15946bddcf4c02843f9c5bda17.wav</td>\n      <td>4.84000</td>\n      <td>positive</td>\n      <td>NaN</td>\n      <td>858305a5450b7bd1288ba0053b1cd1c1</td>\n      <td>а я злая и карина</td>\n      <td>sad</td>\n      <td>f6e9e8ebe28af98415d288839489d001</td>\n    </tr>\n    <tr>\n      <th>4</th>\n      <td>ed5a0505897b5fd7fdd36e75e336e746</td>\n      <td>wavs/ed5a0505897b5fd7fdd36e75e336e746.wav</td>\n      <td>5.26000</td>\n      <td>positive</td>\n      <td>NaN</td>\n      <td>858305a5450b7bd1288ba0053b1cd1c1</td>\n      <td>анекдот мне расскажешь</td>\n      <td>positive</td>\n      <td>a1863537906ea4335372883d6a9261f7</td>\n    </tr>\n  </tbody>\n</table>\n</div>"
     },
     "execution_count": 22,
     "metadata": {},
     "output_type": "execute_result"
    }
   ],
   "source": [
    "data_5 = pd.read_csv(\"C:\\\\Users\\\\s5pen\\\\DataSpellProjects\\\\SER\\\\data_tcv\\\\raw_crowd_train_5.tsv\", delimiter='\\t')\n",
    "data_5"
   ],
   "metadata": {
    "collapsed": false,
    "ExecuteTime": {
     "end_time": "2024-02-19T12:23:32.267604Z",
     "start_time": "2024-02-19T12:23:32.183173Z"
    }
   },
   "id": "cc703b98238eb210",
   "execution_count": 22
  },
  {
   "cell_type": "code",
   "outputs": [],
   "source": [
    "for index, row in data_5.iterrows():\n",
    "    emotion = row['speaker_emo'] \n",
    "    audio_path = AUDIO_DIR + row['hash_id'] + \".wav\"\n",
    "    audio_data, sr = librosa.load(audio_path, sr=None)\n",
    "    display(Audio(audio_path))\n",
    "    create_waveplot(audio_data, sr, emotion)\n",
    "    create_spectrogram(audio_data, sr, emotion)\n",
    "    # create_audio_display(audio_data)\n",
    "        "
   ],
   "metadata": {
    "collapsed": false
   },
   "id": "aa9ceb9c3346c4a9",
   "execution_count": null
  },
  {
   "cell_type": "code",
   "outputs": [],
   "source": [],
   "metadata": {
    "collapsed": false
   },
   "id": "4ecad092afb99141"
  }
 ],
 "metadata": {
  "kernelspec": {
   "display_name": "Python 3",
   "language": "python",
   "name": "python3"
  },
  "language_info": {
   "codemirror_mode": {
    "name": "ipython",
    "version": 2
   },
   "file_extension": ".py",
   "mimetype": "text/x-python",
   "name": "python",
   "nbconvert_exporter": "python",
   "pygments_lexer": "ipython2",
   "version": "2.7.6"
  }
 },
 "nbformat": 4,
 "nbformat_minor": 5
}
